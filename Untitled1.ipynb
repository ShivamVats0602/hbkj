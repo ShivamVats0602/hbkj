{
 "cells": [
  {
   "cell_type": "code",
   "execution_count": 1,
   "id": "39fd0b5f",
   "metadata": {},
   "outputs": [],
   "source": [
    "import matplotlib.pyplot as plt\n",
    "import numpy as np\n",
    "%matplotlib inline"
   ]
  },
  {
   "cell_type": "code",
   "execution_count": 11,
   "id": "8fc49cda",
   "metadata": {},
   "outputs": [],
   "source": [
    "company =['GOOGLE','AMZON','MSFT','FB']\n",
    "revenue=[90,136,89,27]\n",
    "profit=[40,2,34,12]"
   ]
  },
  {
   "cell_type": "code",
   "execution_count": 5,
   "id": "23212ccc",
   "metadata": {},
   "outputs": [
    {
     "data": {
      "text/plain": [
       "array([0, 1, 2, 3])"
      ]
     },
     "execution_count": 5,
     "metadata": {},
     "output_type": "execute_result"
    }
   ],
   "source": [
    "ypos=np.arange(len(company))\n",
    "ypos"
   ]
  },
  {
   "cell_type": "code",
   "execution_count": 19,
   "id": "dd9605d1",
   "metadata": {},
   "outputs": [
    {
     "data": {
      "text/plain": [
       "<matplotlib.legend.Legend at 0x2644ce16d60>"
      ]
     },
     "execution_count": 19,
     "metadata": {},
     "output_type": "execute_result"
    },
    {
     "data": {
      "image/png": "[encoded data removed]",
      "text/plain": [
       "<Figure size 432x288 with 1 Axes>"
      ]
     },
     "metadata": {
      "needs_background": "light"
     },
     "output_type": "display_data"
    }
   ],
   "source": [
    "plt.xticks(ypos,company)\n",
    "plt.ylabel(\"revenue(bin)\")\n",
    "plt.title(\"US Stocks\")\n",
    "plt.bar(ypos-0.2,revenue,width=0.4,label='Revenue')\n",
    "plt.bar(ypos+0.2,profit,width=0.4,label='Profit')\n",
    "\n",
    "plt.legend()"
   ]
  },
  {
   "cell_type": "code",
   "execution_count": 22,
   "id": "06f7768f",
   "metadata": {
    "collapsed": true
   },
   "outputs": [
    {
     "data": {
      "text/plain": [
       "(array([7., 2., 4.]),\n",
       " array([ 77.        , 101.33333333, 125.66666667, 150.        ]),\n",
       " <BarContainer object of 3 artists>)"
      ]
     },
     "execution_count": 22,
     "metadata": {},
     "output_type": "execute_result"
    },
    {
     "data": {
      "image/png": "[encoded data removed]",
      "text/plain": [
       "<Figure size 432x288 with 1 Axes>"
      ]
     },
     "metadata": {
      "needs_background": "light"
     },
     "output_type": "display_data"
    }
   ],
   "source": [
    "blood_sugar = [113,85,90,150,149,85,93,115,135,80,77,82,129]\n",
    "plt.hist(blood_sugar,bins=3 ,rwidth =0.95,color= 'g')"
   ]
  },
  {
   "cell_type": "code",
   "execution_count": 25,
   "id": "915c2429",
   "metadata": {},
   "outputs": [
    {
     "data": {
      "text/plain": [
       "<matplotlib.legend.Legend at 0x2644d0e8610>"
      ]
     },
     "execution_count": 25,
     "metadata": {},
     "output_type": "execute_result"
    },
    {
     "data": {
      "image/png": "[encoded data removed]",
      "text/plain": [
       "<Figure size 432x288 with 1 Axes>"
      ]
     },
     "metadata": {
      "needs_background": "light"
     },
     "output_type": "display_data"
    }
   ],
   "source": [
    "blood_sugar_man = [113,85,90,150,149,85,93,115,135,80,77,82,129]\n",
    "blood_sugar_woman = [67,98,89,120,1233,150,84,69,89,79,120,112,100]\n",
    "plt.xlabel('Sugar_Range')\n",
    "plt.ylabel('Total No of Patients')\n",
    "plt.title('Blod')\n",
    "\n",
    "plt.hist([blood_sugar_man,blood_sugar_woman],bins=[80,100,125,150],rwidth=0.95,color=['green','orange'],label=['Men','Woman'])\n",
    "plt.legend()"
   ]
  }
 ],
 "metadata": {
  "kernelspec": {
   "display_name": "Python 3",
   "language": "python",
   "name": "python3"
  },
  "language_info": {
   "codemirror_mode": {
    "name": "ipython",
    "version": 3
   },
   "file_extension": ".py",
   "mimetype": "text/x-python",
   "name": "python",
   "nbconvert_exporter": "python",
   "pygments_lexer": "ipython3",
   "version": "3.8.8"
  }
 },
 "nbformat": 4,
 "nbformat_minor": 5
}
